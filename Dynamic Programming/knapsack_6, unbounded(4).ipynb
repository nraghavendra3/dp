{
 "cells": [
  {
   "cell_type": "markdown",
   "metadata": {},
   "source": [
    "# 0/1 KNAPSACK"
   ]
  },
  {
   "cell_type": "code",
   "execution_count": 12,
   "metadata": {},
   "outputs": [
    {
     "name": "stdout",
     "output_type": "stream",
     "text": [
      "enter no. elements: 3\n",
      "enter max weight: 50\n",
      "enter value array\n",
      "100\n",
      "120\n",
      "50\n",
      "enter weight array\n",
      "1\n",
      "1\n",
      "1\n",
      "maximum profit=  270\n"
     ]
    }
   ],
   "source": [
    "# 1/0 knapsack problem\n",
    "\n",
    "n = int(input(\"enter no. elements: \"))\n",
    "W = int(input(\"enter max weight: \"))\n",
    "print('enter value array')\n",
    "val = []\n",
    "for i in range(n):\n",
    "    val.append(int(input()))\n",
    "print('enter weight array')\n",
    "wt = []\n",
    "for i in range(n):\n",
    "    wt.append(int(input()))\n",
    "t = [[0 for i in range(W+1)] for j in range(n+1)]\n",
    "\n",
    "for i in range(n+1):\n",
    "    for j in range(W+1):\n",
    "        if i == 0 or j == 0:\n",
    "            t[i][j] = 0\n",
    "        elif(wt[i-1] <=j):\n",
    "            t[i][j]= max( val[i-1]+t[i-1][j-wt[i-1]] , t[i-1][j])\n",
    "        else:\n",
    "            t[i][j] = t[i-1][j]\n",
    "print('maximum profit= ',t[n][W])\n",
    "\n",
    "# time complexity = O(N*W)"
   ]
  },
  {
   "cell_type": "code",
   "execution_count": 1,
   "metadata": {},
   "outputs": [
    {
     "name": "stdout",
     "output_type": "stream",
     "text": [
      "[[True, False, False, False, False, False, False, False, False, False], [True, True, False, False, False, False, False, False, False, False], [True, True, False, True, True, False, False, False, False, False], [True, True, False, True, True, True, False, True, True, False], [True, True, False, True, True, True, True, True, True, True]]\n",
      "True\n"
     ]
    }
   ],
   "source": [
    "# 1.1 subset sum:\n",
    "\n",
    "# Return T/F whether there exists a subset in the given array with the given sum\n",
    "# arr = [4,9,7,10]  sum = 11\n",
    "# there exists a subset with sum = 11 in arr (i.e., [7,4]) - return True\n",
    "\n",
    "def subsetsum(wt,W,n):\n",
    "    t = [[0 for i in range(W+1)] for j in range(n+1)]\n",
    "\n",
    "    for i in range(n+1):\n",
    "        t[i][0] = True\n",
    "    for i in range(1,W+1): \n",
    "        t[0][i] = False\n",
    "    for i in range(1,n+1):\n",
    "        for j in range(1,W+1):\n",
    "            if(wt[i-1] <=j):\n",
    "                t[i][j]= t[i-1][j-wt[i-1]] or t[i-1][j]\n",
    "            else:\n",
    "                t[i][j] = t[i-1][j]\n",
    "                \n",
    "    print(t)\n",
    "    return t[n][W]\n",
    "wt = [1,3,4,5]\n",
    "W = 9\n",
    "n = 4\n",
    "print(subsetsum(wt,W,n))\n",
    "\n",
    "# time complexity = O(N*W)"
   ]
  },
  {
   "cell_type": "code",
   "execution_count": 10,
   "metadata": {},
   "outputs": [
    {
     "name": "stdout",
     "output_type": "stream",
     "text": [
      "3 2 1\n",
      "possible\n",
      "equal weights of 3 each\n"
     ]
    }
   ],
   "source": [
    "#equal sum partition\n",
    "\n",
    "def subsetsum(wt,W,n):\n",
    "    t = [[0 for i in range(W+1)] for j in range(n+1)]\n",
    "\n",
    "    for i in range(n+1):\n",
    "        t[i][0] = True\n",
    "    for i in range(1,W+1): \n",
    "        t[0][i] = False\n",
    "    for i in range(1,n+1):\n",
    "        for j in range(1,W+1):\n",
    "            if(wt[i-1] <=j):\n",
    "                t[i][j]= t[i-1][j-wt[i-1]] or t[i-1][j]\n",
    "            else:\n",
    "                t[i][j] = t[i-1][j]\n",
    "    return t[n][W]\n",
    "\n",
    "arr =list(map(int,input().split()))\n",
    "W = sum(arr)\n",
    "n = len(arr)\n",
    "\n",
    "if(W%2 != 0):\n",
    "    print(\"not possible\")\n",
    "else:\n",
    "    \n",
    "    if(subsetsum(arr,W//2,n)):\n",
    "        print(\"possible\")\n",
    "        print(f\"equal weights of {W//2} each\")\n",
    "    else:\n",
    "        print(\"not possible\")\n"
   ]
  },
  {
   "cell_type": "code",
   "execution_count": null,
   "metadata": {},
   "outputs": [],
   "source": [
    "## 1.3 Count of subsets with a given sum:\n",
    "\n",
    "# from a given array find count of subsets that can be formed with given Sum\n",
    "# arr =[2,3,5,8,10] sum =10 => ans : Count= 3 (i.e., [2,3,5], [2,8], [10])\n",
    "\n",
    "def subsetsum(wt,W,n):\n",
    "    t = [[0 for i in range(W+1)] for j in range(n+1)]\n",
    "\n",
    "    for i in range(n+1):\n",
    "        t[i][0] = True\n",
    "    for i in range(1,W+1): \n",
    "        t[0][i] = False\n",
    "    for i in range(1,n+1):\n",
    "        for j in range(1,W+1):\n",
    "            if(wt[i-1] <=j):\n",
    "                t[i][j]= t[i-1][j-wt[i-1]] + t[i-1][j]\n",
    "            else:\n",
    "                t[i][j] = t[i-1][j]\n",
    "    return t[n][W]\n",
    "\n",
    "arr =[2,3,5,8,10] \n",
    "Sum = 10\n",
    "print(subsetsum(arr,Sum,len(arr)))\n",
    "\n",
    "# time complexity = O(N*Sum)"
   ]
  },
  {
   "cell_type": "code",
   "execution_count": 1,
   "metadata": {},
   "outputs": [
    {
     "name": "stdout",
     "output_type": "stream",
     "text": [
      "2\n"
     ]
    }
   ],
   "source": [
    "# 1.4 minimum subset sum difference:\n",
    "\n",
    "# arr =[1,6,11,5]- find partions whose sum is minimum & return min sum\n",
    "# [6,5],[1,11] are subsets with min sum diff i.e, |11-12|=1\n",
    "\n",
    "def subsetsum(wt,W,n):\n",
    "    t = [[0 for i in range(W+1)] for j in range(n+1)]\n",
    "\n",
    "    for i in range(n+1):\n",
    "        t[i][0] = True\n",
    "    for i in range(1,W+1): \n",
    "        t[0][i] = False\n",
    "    for i in range(1,n+1):\n",
    "        for j in range(1,W+1):\n",
    "            if(wt[i-1] <=j):\n",
    "                t[i][j]= t[i-1][j-wt[i-1]] or t[i-1][j]\n",
    "            else:\n",
    "                t[i][j] = t[i-1][j]\n",
    "    return t[n][:]\n",
    "arr = [1,9,11,5]\n",
    "x = subsetsum(arr, sum(arr), len(arr))\n",
    "# print(x)\n",
    "v=[]\n",
    "for i in range((sum(arr)+1)//2):\n",
    "    if(x[i] != False ):\n",
    "        v.append(i)\n",
    "print(sum(arr)-2*(v[-1]))\n",
    "\n",
    "# time complexity = O(N*Sum)"
   ]
  },
  {
   "cell_type": "code",
   "execution_count": 2,
   "metadata": {},
   "outputs": [
    {
     "name": "stdout",
     "output_type": "stream",
     "text": [
      "1\n"
     ]
    }
   ],
   "source": [
    "# 1.5 Place + and - before every element of an array so that value is minimum:\n",
    "# arr = [2,2,3,4] ans: '1' (i.e., +2-2-3+4 )\n",
    "\n",
    "def subsetsum(wt,W,n):\n",
    "    t = [[0 for i in range(W+1)] for j in range(n+1)]\n",
    "\n",
    "    for i in range(n+1):\n",
    "        t[i][0] = True\n",
    "    for i in range(1,W+1): \n",
    "        t[0][i] = False\n",
    "    for i in range(1,n+1):\n",
    "        for j in range(1,W+1):\n",
    "            if(wt[i-1] <=j):\n",
    "                t[i][j]= t[i-1][j-wt[i-1]] or t[i-1][j]\n",
    "            else:\n",
    "                t[i][j] = t[i-1][j]\n",
    "    return t[n][:]\n",
    "arr = [2,2,3,4]\n",
    "x = subsetsum(arr, sum(arr), len(arr))\n",
    "# print(x)\n",
    "v=[]\n",
    "for i in range((sum(arr)+1)//2):\n",
    "    if(x[i] != False ):\n",
    "        v.append(i)\n",
    "print(sum(arr)-2*(v[-1]))"
   ]
  },
  {
   "cell_type": "markdown",
   "metadata": {},
   "source": [
    "# UNBOUNDED KNAPSACK"
   ]
  },
  {
   "cell_type": "code",
   "execution_count": 3,
   "metadata": {
    "scrolled": true
   },
   "outputs": [
    {
     "name": "stdout",
     "output_type": "stream",
     "text": [
      "enter no. elements: 3\n",
      "enter max weight: 5\n",
      "enter value array\n",
      "1\n",
      "2\n",
      "3\n",
      "enter weight array\n",
      "1\n",
      "2\n",
      "3\n",
      "maximum profit=  5\n"
     ]
    }
   ],
   "source": [
    "# unbounded knapsack problem\n",
    "\n",
    "n = int(input(\"enter no. elements: \"))\n",
    "W = int(input(\"enter max weight: \"))\n",
    "print('enter value array')\n",
    "val = []\n",
    "for i in range(n):\n",
    "    val.append(int(input()))\n",
    "print('enter weight array')\n",
    "wt = []\n",
    "for i in range(n):\n",
    "    wt.append(int(input()))\n",
    "t = [[0 for i in range(W+1)] for j in range(n+1)]\n",
    "\n",
    "for i in range(n+1):\n",
    "    for j in range(W+1):\n",
    "        if i == 0 or j == 0:\n",
    "            t[i][j] = 0\n",
    "        elif(wt[i-1] <=j):\n",
    "            t[i][j]= max( val[i-1]+t[i][j-wt[i-1]] , t[i-1][j])\n",
    "        else:\n",
    "            t[i][j] = t[i-1][j]\n",
    "print('maximum profit= ',t[n][W])"
   ]
  },
  {
   "cell_type": "markdown",
   "metadata": {},
   "source": [
    "## DP(type-2) coin change problem\n",
    "## maximum no. of ways to give sum with the available coins, we have infinite supply of coins"
   ]
  },
  {
   "cell_type": "code",
   "execution_count": 7,
   "metadata": {},
   "outputs": [
    {
     "name": "stdout",
     "output_type": "stream",
     "text": [
      "[[1, 0, 0, 0, 0, 0], [1, 1, 1, 1, 1, 1], [1, 1, 2, 2, 3, 3], [1, 1, 2, 3, 4, 5]]\n",
      "Maximum no. of ways : 5\n"
     ]
    }
   ],
   "source": [
    "# arr = [1,2,3] sum = 5\n",
    "# ans:: 5 ways -- [1,1,1,1,1] , [1,1,1,2], [3,2], [1,2,2], [3,1,1]\n",
    "def maxways(arr, Sum, n):\n",
    "    t = [[0 for i in range(Sum+1)] for j in range(n+1)]\n",
    "#     print(t)\n",
    "\n",
    "    for i in range(n+1):\n",
    "        for j in range(Sum+1):\n",
    "            if i == 0:\n",
    "                t[i][j] = 0\n",
    "            if j == 0:\n",
    "                t[i][j] = 1\n",
    "\n",
    "\n",
    "#     print(t)                \n",
    "    for i in range(1,n+1):\n",
    "        for j in range(1,Sum+1):     \n",
    "            if(arr[i-1] <=j):\n",
    "                t[i][j]=  t[i][j-arr[i-1]] + t[i-1][j]\n",
    "            else:\n",
    "                t[i][j] = t[i-1][j]\n",
    "    print(t)\n",
    "    return t[n][Sum]\n",
    "arr = [1,2,3] \n",
    "Sum = 5\n",
    "print(\"Maximum no. of ways :\",maxways(arr,Sum,len(arr)))"
   ]
  },
  {
   "cell_type": "code",
   "execution_count": 1,
   "metadata": {},
   "outputs": [
    {
     "name": "stdout",
     "output_type": "stream",
     "text": [
      "2 3 5 5\n",
      "2 3\n"
     ]
    }
   ],
   "source": [
    "arr,rr= map(int, input().split())\n",
    "print(arr,rr)"
   ]
  },
  {
   "cell_type": "code",
   "execution_count": 3,
   "metadata": {},
   "outputs": [
    {
     "name": "stdout",
     "output_type": "stream",
     "text": [
      "enter no. of rows: 4\n",
      "enter no. of columns:4\n"
     ]
    },
    {
     "data": {
      "text/plain": [
       "[[0, 0, 0, 0], [0, 0, 0, 0], [0, 0, 0, 0], [0, 0, 0, 0]]"
      ]
     },
     "execution_count": 3,
     "metadata": {},
     "output_type": "execute_result"
    }
   ],
   "source": [
    "n= int(input(\"enter no. of rows: \"))\n",
    "m = int(input(\"enter no. of columns:\"))\n",
    "x = [[0]*m]*n\n",
    "x"
   ]
  },
  {
   "cell_type": "code",
   "execution_count": null,
   "metadata": {},
   "outputs": [],
   "source": []
  }
 ],
 "metadata": {
  "kernelspec": {
   "display_name": "Python 3",
   "language": "python",
   "name": "python3"
  },
  "language_info": {
   "codemirror_mode": {
    "name": "ipython",
    "version": 3
   },
   "file_extension": ".py",
   "mimetype": "text/x-python",
   "name": "python",
   "nbconvert_exporter": "python",
   "pygments_lexer": "ipython3",
   "version": "3.8.3"
  }
 },
 "nbformat": 4,
 "nbformat_minor": 4
}
