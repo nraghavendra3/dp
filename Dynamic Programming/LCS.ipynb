{
 "cells": [
  {
   "cell_type": "code",
   "execution_count": 7,
   "metadata": {},
   "outputs": [
    {
     "name": "stdout",
     "output_type": "stream",
     "text": [
      "{'i', 'u', 'o', 'e', 'a'}\n"
     ]
    },
    {
     "data": {
      "text/plain": [
       "{'a', 'e', 'i', 'o', 'u'}"
      ]
     },
     "execution_count": 7,
     "metadata": {},
     "output_type": "execute_result"
    }
   ],
   "source": [
    "word='aeiou'\n",
    "l=['a', 'e', 'i', 'o', 'u']\n",
    "if set(word)!=set(l):\n",
    "    print(0)\n",
    "else:\n",
    "    print(set(l))\n",
    "set(word)"
   ]
  },
  {
   "cell_type": "markdown",
   "metadata": {},
   "source": [
    "### 1. Largest Common Sub Sequence -- 1.1 Recursion,1.2 Bottom Top, 1.3 Top down  \n",
    "### 2. Longest Common \"SubString\"\n",
    "### 3. Print the Longest Common Subsequence\n",
    "### 4. Shortest Common Superstring\n",
    "### 5. Minimum no. of deletions and Insertions to change string x to y\n",
    "### 6. Longest Palindromic subsequence\n",
    "### 7. minimum no. of deletions to make a string palindrome\n"
   ]
  },
  {
   "cell_type": "code",
   "execution_count": 2,
   "metadata": {},
   "outputs": [
    {
     "name": "stdout",
     "output_type": "stream",
     "text": [
      "Largest common \"SEQUENCE\" length = 4\n"
     ]
    }
   ],
   "source": [
    "# 1\n",
    "\n",
    "#LCS --- Largest common \"SEQUENCE\" length\n",
    "# X = \"abcdef\"\n",
    "# Y = \"ahbdfu\"  =>largest common sequence is \"a b d f\" -- Length = 4\n",
    "\n",
    "# 1.1 RECURSION MODEL\n",
    "\n",
    "def lcs(x,y,m,n):\n",
    "    \n",
    "    if(m==0 or n==0):\n",
    "        return 0\n",
    "    if x[m-1]==y[n-1]:\n",
    "        return lcs(x,y,m-1,n-1)+1\n",
    "    else:\n",
    "        return max(lcs(x,y,m-1,n) , lcs(x,y,m,n-1))\n",
    "    \n",
    "x = \"abcdef\"\n",
    "y = \"ahbdfu\"\n",
    "print('Largest common \"SEQUENCE\" length =',lcs(x,y,len(x),len(y)))"
   ]
  },
  {
   "cell_type": "code",
   "execution_count": 11,
   "metadata": {},
   "outputs": [
    {
     "name": "stdout",
     "output_type": "stream",
     "text": [
      "Largest common \"SEQUENCE\" length = 3\n"
     ]
    }
   ],
   "source": [
    "#1.2\n",
    "\n",
    "# Bottom top aproach\n",
    "# RECURSION MODEL + Memoization\n",
    "\n",
    "def lcs(x,y,m,n,t):\n",
    "    if t[m][n]!= -1:\n",
    "        return t[m][n]\n",
    "\n",
    "    if(m==0 or n==0):\n",
    "        t[m][n]=0\n",
    "        return t[m][n]\n",
    "    if x[m-1]==y[n-1]:\n",
    "        t[m][n]=lcs(x,y,m-1,n-1,t)+1\n",
    "        return t[m][n]\n",
    "    else:\n",
    "        t[m][n]=max(lcs(x,y,m-1,n,t) , lcs(x,y,m,n-1,t))\n",
    "        return t[m][n]\n",
    "\n",
    "\n",
    "x = \"abcdef\"\n",
    "y = \"ace\"\n",
    "m = len(x)\n",
    "n = len(y)\n",
    "t = [[-1 for i in range(n+1)]for j in range(m+1)] \n",
    "print('Largest common \"SEQUENCE\" length =',lcs(x,y,m,n,t))"
   ]
  },
  {
   "cell_type": "code",
   "execution_count": 12,
   "metadata": {},
   "outputs": [
    {
     "name": "stdout",
     "output_type": "stream",
     "text": [
      "Largest common \"SEQUENCE\" length = 3\n"
     ]
    }
   ],
   "source": [
    "#1.3\n",
    "# Top Down Approach\n",
    "\n",
    "def lcs(x,y,m,n):\n",
    "    t = [[0 for i in range(n+1)]for j in range(m+1)] \n",
    "    \n",
    "#     for i in range(m+1):\n",
    "#         for j in range(n+1):\n",
    "#             if i==0 or j==0:\n",
    "#                 t[i][j]=0\n",
    "    \n",
    "    for i in range(1,m+1):\n",
    "        for j in range(1,n+1):\n",
    "             \n",
    "            if x[i-1]==y[j-1]:\n",
    "                t[i][j]=1+t[i-1][j-1]\n",
    "            else:\n",
    "                t[i][j]=max(t[i][j-1], t[i-1][j])\n",
    "    return t[m][n]\n",
    "\n",
    "x = \"abcde\"\n",
    "y=\"assbc\"\n",
    "m = len(x)\n",
    "n = len(y)\n",
    "# t = [[-1 for i in range(n+1)]for j in range(m+1)] \n",
    "print('Largest common \"SEQUENCE\" length =',lcs(x,y,m,n) )"
   ]
  },
  {
   "cell_type": "code",
   "execution_count": 18,
   "metadata": {},
   "outputs": [
    {
     "name": "stdout",
     "output_type": "stream",
     "text": [
      "Largest common \"String\" length = 4\n"
     ]
    }
   ],
   "source": [
    "\n",
    "# DOUBT\n",
    "\n",
    "# Longest Common \"SubString\"\n",
    "# x = \"abcxyz\" y = \"xabcyz\"\n",
    "#Length of longest common substring is 3 (i.e., \"abc\" =3)\n",
    "\n",
    "def lcs(x,y,m,n):\n",
    "    t = [[0 for i in range(n+1)]for j in range(m+1)] \n",
    "    \n",
    "    for i in range(m+1):\n",
    "        for j in range(n+1):\n",
    "            if i==0 or j==0:\n",
    "                t[i][j]=0\n",
    "    \n",
    "    for i in range(1,m+1):\n",
    "        for j in range(1,n+1):\n",
    "            if x[i-1]==y[j-1]:\n",
    "                t[i][j]=1+t[i-1][j-1]\n",
    "            else:\n",
    "                t[i][j]=0\n",
    "    return t[m][n]\n",
    "\n",
    "x = \"abcdekkde\"\n",
    "y=\"abcdexxkkde\"\n",
    "m = len(x)\n",
    "n = len(y)\n",
    "t = [[-1 for i in range(n+1)]for j in range(m+1)] \n",
    "print('Largest common \"String\" length =',lcs(x,y,m,n) )"
   ]
  },
  {
   "cell_type": "code",
   "execution_count": 19,
   "metadata": {},
   "outputs": [
    {
     "name": "stdout",
     "output_type": "stream",
     "text": [
      "abdf"
     ]
    }
   ],
   "source": [
    "# 3\n",
    "# Print the Longest Common Subsequence\n",
    "\n",
    "def lcs(x,y,m,n):\n",
    "    t = [[0 for i in range(n+1)]for j in range(m+1)] \n",
    "    \n",
    "    for i in range(m+1):\n",
    "        for j in range(n+1):\n",
    "            if i==0 or j==0:\n",
    "                t[i][j]=0\n",
    "    \n",
    "    for i in range(1,m+1):\n",
    "        for j in range(1,n+1):\n",
    "            if x[i-1]==y[j-1]:\n",
    "                t[i][j]=1+t[i-1][j-1]\n",
    "            else:\n",
    "                t[i][j]=max(t[i][j-1], t[i-1][j])\n",
    "    i=m\n",
    "    j=n\n",
    "    st=[]\n",
    "    while(i>0 and j>0):\n",
    "        if x[i-1]==y[j-1]:\n",
    "            st.append(x[i-1])\n",
    "            i-=1\n",
    "            j-=1\n",
    "        else:\n",
    "            if(t[i-1][j]>t[i][j-1]):\n",
    "                i-=1\n",
    "            else:\n",
    "                j-=1\n",
    "    return st[::-1]\n",
    "x = \"abcdef\"\n",
    "y = \"ahbdfu\"\n",
    "m = len(x)\n",
    "n = len(y)\n",
    "t = [[-1 for i in range(n+1)]for j in range(m+1)] \n",
    "r = lcs(x,y,m,n)\n",
    "for i in r:\n",
    "    print(i,end='')\n",
    "\n"
   ]
  },
  {
   "cell_type": "code",
   "execution_count": 20,
   "metadata": {},
   "outputs": [
    {
     "name": "stdout",
     "output_type": "stream",
     "text": [
      "length of the Shortest Common Supersequence = 8\n"
     ]
    }
   ],
   "source": [
    "#4\n",
    "# Shortest Common Supersequence\n",
    "# Return the length of the Shortest Common Supersequence\n",
    "# x = \"abcde\" y = \"bxcydze\" -- abxcydze is Shortest Common Supersequence => length = 8\n",
    "\n",
    "\n",
    "def lcs(x,y,m,n):\n",
    "    t = [[0 for i in range(n+1)]for j in range(m+1)] \n",
    "    \n",
    "    for i in range(m+1):\n",
    "        for j in range(n+1):\n",
    "            if i==0 or j==0:\n",
    "                t[i][j]=0\n",
    "    \n",
    "    for i in range(1,m+1):\n",
    "        for j in range(1,n+1):\n",
    "            if x[i-1]==y[j-1]:\n",
    "                t[i][j]=1+t[i-1][j-1]\n",
    "            else:\n",
    "                t[i][j]=max(t[i][j-1], t[i-1][j])\n",
    "    return t[m][n]\n",
    "\n",
    "x = \"abcde\"\n",
    "y = \"bxcydze\"\n",
    "m = len(x)\n",
    "n = len(y)\n",
    "\n",
    "print('length of the Shortest Common Supersequence =',m+n-lcs(x,y,m,n) )\n",
    "\n"
   ]
  },
  {
   "cell_type": "code",
   "execution_count": 22,
   "metadata": {},
   "outputs": [
    {
     "name": "stdout",
     "output_type": "stream",
     "text": [
      "no. of deletions =2, no. of insertions =1\n"
     ]
    }
   ],
   "source": [
    "#5\n",
    "# Minimum no. of deletions and Insertions to change string x to y\n",
    "# x = \"geek\" y = \"pee\"\n",
    "\n",
    "\n",
    "def lcs(x,y,m,n):\n",
    "    t = [[0 for i in range(n+1)]for j in range(m+1)] \n",
    "    \n",
    "    for i in range(m+1):\n",
    "        for j in range(n+1):\n",
    "            if i==0 or j==0:\n",
    "                t[i][j]=0\n",
    "    \n",
    "    for i in range(1,m+1):\n",
    "        for j in range(1,n+1):\n",
    "            if x[i-1]==y[j-1]:\n",
    "                t[i][j]=1+t[i-1][j-1]\n",
    "            else:\n",
    "                t[i][j]=max(t[i][j-1], t[i-1][j])\n",
    "    return t[m][n]\n",
    "\n",
    "x = \"geek\"\n",
    "y = \"pee\"\n",
    "m = len(x)\n",
    "n = len(y)\n",
    "lcs = lcs(x,y,m,n) \n",
    "nd = m - lcs\n",
    "ni = n - lcs\n",
    "print(f\"no. of deletions ={nd}, no. of insertions ={ni}\")"
   ]
  },
  {
   "cell_type": "code",
   "execution_count": 23,
   "metadata": {},
   "outputs": [
    {
     "name": "stdout",
     "output_type": "stream",
     "text": [
      "length of Longest Palindromic subsequence = 5\n"
     ]
    }
   ],
   "source": [
    "#6\n",
    "# Longest Palindromic subsequence\n",
    "def lcs(x,y,m,n):\n",
    "    t = [[0 for i in range(n+1)]for j in range(m+1)] \n",
    "    \n",
    "    for i in range(m+1):\n",
    "        for j in range(n+1):\n",
    "            if i==0 or j==0:\n",
    "                t[i][j]=0\n",
    "    \n",
    "    for i in range(1,m+1):\n",
    "        for j in range(1,n+1):\n",
    "            if x[i-1]==y[j-1]:\n",
    "                t[i][j]=1+t[i-1][j-1]\n",
    "            else:\n",
    "                t[i][j]=max(t[i][j-1], t[i-1][j])\n",
    "    return t[m][n]\n",
    "\n",
    "x = \"axbcbya\"\n",
    "m = len(x)\n",
    "print(\"length of Longest Palindromic subsequence =\",lcs(x,x[::-1],m,m))"
   ]
  },
  {
   "cell_type": "code",
   "execution_count": 24,
   "metadata": {},
   "outputs": [
    {
     "name": "stdout",
     "output_type": "stream",
     "text": [
      "length of Longest Palindromic subsequence = 2\n"
     ]
    }
   ],
   "source": [
    "#7\n",
    "# minimum no. of deletions to make a string palindrome\n",
    "def lcs(x,y,m,n):\n",
    "    t = [[0 for i in range(n+1)]for j in range(m+1)] \n",
    "    \n",
    "    for i in range(m+1):\n",
    "        for j in range(n+1):\n",
    "            if i==0 or j==0:\n",
    "                t[i][j]=0\n",
    "    \n",
    "    for i in range(1,m+1):\n",
    "        for j in range(1,n+1):\n",
    "            if x[i-1]==y[j-1]:\n",
    "                t[i][j]=1+t[i-1][j-1]\n",
    "            else:\n",
    "                t[i][j]=max(t[i][j-1], t[i-1][j])\n",
    "    return t[m][n]\n",
    "\n",
    "x = \"axbcbya\"\n",
    "m = len(x)\n",
    "print(\"length of Longest Palindromic subsequence =\",m-lcs(x,x[::-1],m,m))"
   ]
  },
  {
   "cell_type": "code",
   "execution_count": 5,
   "metadata": {},
   "outputs": [
    {
     "data": {
      "text/plain": [
       "'aba$'"
      ]
     },
     "execution_count": 5,
     "metadata": {},
     "output_type": "execute_result"
    }
   ],
   "source": [
    "s = 'aba'\n",
    "s = s + '$'\n",
    "s"
   ]
  },
  {
   "cell_type": "code",
   "execution_count": null,
   "metadata": {},
   "outputs": [],
   "source": []
  }
 ],
 "metadata": {
  "kernelspec": {
   "display_name": "Python 3",
   "language": "python",
   "name": "python3"
  },
  "language_info": {
   "codemirror_mode": {
    "name": "ipython",
    "version": 3
   },
   "file_extension": ".py",
   "mimetype": "text/x-python",
   "name": "python",
   "nbconvert_exporter": "python",
   "pygments_lexer": "ipython3",
   "version": "3.8.3"
  }
 },
 "nbformat": 4,
 "nbformat_minor": 4
}
